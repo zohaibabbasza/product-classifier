{
 "cells": [
  {
   "cell_type": "code",
   "execution_count": 54,
   "metadata": {},
   "outputs": [],
   "source": [
    "import pandas as pd \n",
    "import numpy as np\n",
    "from sklearn.model_selection import train_test_split\n",
    "from sklearn.feature_extraction.text import TfidfVectorizer\n",
    "from sklearn.linear_model import LogisticRegression\n",
    "from sklearn import metrics\n",
    "from sklearn import preprocessing\n",
    "from sklearn.tree import DecisionTreeClassifier \n",
    "from sklearn.neural_network import MLPClassifier\n",
    "import matplotlib.pyplot as plt\n",
    "from sklearn.ensemble import RandomForestClassifier\n",
    "from sklearn.svm import LinearSVC\n",
    "import re\n",
    "import pickle"
   ]
  },
  {
   "cell_type": "code",
   "execution_count": 58,
   "metadata": {},
   "outputs": [],
   "source": [
    "data = pd.read_csv('/home/rootuser/Desktop/fyp/data_cat.csv')\n",
    "data = data.dropna(axis = 0, how ='any') "
   ]
  },
  {
   "cell_type": "code",
   "execution_count": 59,
   "metadata": {},
   "outputs": [],
   "source": [
    "X_train,X_test,y_train,y_test = train_test_split(data[\"description\"],data[\"category\"],random_state=0)\n",
    "vect = TfidfVectorizer().fit(X_train.values.astype('U'))\n",
    "X_train_vectorized = vect.transform(X_train.values.astype('U'))"
   ]
  },
  {
   "cell_type": "code",
   "execution_count": null,
   "metadata": {},
   "outputs": [],
   "source": [
    "model = LogisticRegression(C=0.01,penalty='l2' ,solver='lbfgs', multi_class='multinomial')\n",
    "model.fit(X_train_vectorized, y_train)\n",
    "predictions=model.predict(vect.transform(X_test))\n",
    "print(\"Testing Accuracy:\",metrics.accuracy_score(y_test, predictions))\n",
    "print(\"Precision:\",metrics.precision_score(y_test, predictions,average='micro'))\n",
    "print(\"Recall:\",metrics.recall_score(y_test, predictions,average='micro'))\n",
    "print(\"F1-Score:\",metrics.f1_score(y_test, predictions,average='micro'))\n",
    "print(\"AUC ROC\",multiclass_roc_auc_score(y_test,predictions,average='micro'))\n",
    "print(\"Training Accuracy:\",metrics.accuracy_score(y_train,model.predict(vect.transform(X_train))))"
   ]
  },
  {
   "cell_type": "code",
   "execution_count": null,
   "metadata": {},
   "outputs": [],
   "source": []
  }
 ],
 "metadata": {
  "kernelspec": {
   "display_name": "Python 3",
   "language": "python",
   "name": "python3"
  },
  "language_info": {
   "codemirror_mode": {
    "name": "ipython",
    "version": 3
   },
   "file_extension": ".py",
   "mimetype": "text/x-python",
   "name": "python",
   "nbconvert_exporter": "python",
   "pygments_lexer": "ipython3",
   "version": "3.8.2"
  }
 },
 "nbformat": 4,
 "nbformat_minor": 4
}
